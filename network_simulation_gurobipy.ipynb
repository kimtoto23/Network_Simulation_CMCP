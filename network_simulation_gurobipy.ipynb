{
  "nbformat": 4,
  "nbformat_minor": 0,
  "metadata": {
    "colab": {
      "provenance": [],
      "authorship_tag": "ABX9TyMuqdHS7PzbveKPxNYLEfor",
      "include_colab_link": true
    },
    "kernelspec": {
      "name": "python3",
      "display_name": "Python 3"
    },
    "language_info": {
      "name": "python"
    }
  },
  "cells": [
    {
      "cell_type": "markdown",
      "metadata": {
        "id": "view-in-github",
        "colab_type": "text"
      },
      "source": [
        "<a href=\"https://colab.research.google.com/github/kimtoto23/Network_Simulation_CMCP/blob/main/network_simulation_gurobipy.ipynb\" target=\"_parent\"><img src=\"https://colab.research.google.com/assets/colab-badge.svg\" alt=\"Open In Colab\"/></a>"
      ]
    },
    {
      "cell_type": "markdown",
      "source": [
        "# Connected Maximum Coverage Problem using GA Algorithm"
      ],
      "metadata": {
        "id": "NklrYhksLtuo"
      }
    },
    {
      "cell_type": "markdown",
      "source": [
        "##### google drive mount"
      ],
      "metadata": {
        "id": "MwzSkDAuMCGW"
      }
    },
    {
      "cell_type": "code",
      "source": [
        "from google.colab import drive\n",
        "drive.mount('/content/drive')"
      ],
      "metadata": {
        "colab": {
          "base_uri": "https://localhost:8080/"
        },
        "id": "O6q8EDekyuNq",
        "outputId": "4d48a032-4f1c-49d4-dc9c-01d65d75ffbb"
      },
      "execution_count": null,
      "outputs": [
        {
          "output_type": "stream",
          "name": "stdout",
          "text": [
            "Mounted at /content/drive\n"
          ]
        }
      ]
    },
    {
      "cell_type": "code",
      "source": [
        "import gurobipy as gp\n",
        "from gurobipy import GRB\n",
        "import pandas as pd\n",
        "\n",
        "# Define the sets and data\n",
        "I = range(12)  # Facility candidates set\n",
        "J = range(12)  # Facility demand set\n",
        "cost = [\n",
        "    [0, 15, 37, 55, 24, 60, 18, 33, 48, 40, 58, 67],\n",
        "    [15, 0, 22, 40, 38, 52, 33, 48, 42, 55, 61, 61],\n",
        "    [37, 22, 0, 18, 16, 30, 41, 28, 20, 58, 39, 39],\n",
        "    [55, 40, 18, 0, 34, 12, 59, 46, 24, 62, 43, 34],\n",
        "    [24, 38, 16, 34, 0, 36, 25, 12, 24, 47, 37, 43],\n",
        "    [60, 52, 30, 12, 36, 0, 57, 42, 12, 50, 31, 22],\n",
        "    [18, 33, 41, 59, 25, 57, 0, 15, 45, 22, 40, 61],\n",
        "    [33, 48, 28, 46, 12, 42, 15, 0, 30, 37, 25, 46],\n",
        "    [48, 42, 20, 24, 24, 12, 45, 30, 0, 38, 19, 19],\n",
        "    [40, 55, 58, 62, 47, 50, 22, 37, 38, 0, 19, 40],\n",
        "    [58, 61, 39, 43, 37, 31, 40, 25, 19, 19, 0, 21],\n",
        "    [67, 61, 39, 34, 43, 22, 61, 46, 19, 40, 21, 0]\n",
        "]\n",
        "\n",
        "# Node demands\n",
        "node_edge = pd.DataFrame({\"node\": [0,1,2,3,4,5,6,7,8,9,10,11], \"demand\":[15,10,12,18,5,24,11,16,13,22,19,20]})\n",
        "demand = node_edge['demand']\n",
        "\n",
        "# Create a Gurobi model\n",
        "model = gp.Model(\"Maximum_Coverage_Facility_Location\")\n",
        "\n",
        "# Decision variables\n",
        "x = {}  # Facility selection variables\n",
        "y = {}  # Coverage variables\n",
        "a = {}  # Binary decision variable for covering\n",
        "for i in I:\n",
        "    x[i] = model.addVar(vtype=GRB.BINARY, name=f\"x_{i}\")\n",
        "    for j in J:\n",
        "        y[i, j] = model.addVar(vtype=GRB.BINARY, name=f\"y_{i}_{j}\")\n",
        "        a[i, j] = model.addVar(vtype=GRB.BINARY, name=f\"a_{i}_{j}\")\n",
        "\n",
        "# Objective function\n",
        "model.setObjective(gp.quicksum(demand[j] * y[i, j] for i in I for j in J), sense=GRB.MAXIMIZE)\n",
        "\n",
        "# Constraints\n",
        "for i in I:\n",
        "    model.addConstr(gp.quicksum(cost[j][i] * y[i, j] for j in J) <= 30 * x[i], name=f\"Distance_Constraint_{i}\")\n",
        "\n",
        "for i in I:\n",
        "    for j in J:\n",
        "        model.addConstr(y[i, j] <= a[i, j] * x[j], name=f\"Coverage_Constraint_{i}_{j}\")\n",
        "\n",
        "model.addConstr(gp.quicksum(x[i] for i in I) == 3, name=\"Facility_Count_Constraint\")\n",
        "\n",
        "# Solve the model\n",
        "model.optimize()\n",
        "\n",
        "# Print results\n",
        "if model.status == GRB.OPTIMAL:\n",
        "    print(\"Optimal Solution Found!\")\n",
        "    for i in I:\n",
        "        if x[i].x > 0.5:\n",
        "            print(f\"Facility {i} is selected.\")\n",
        "            covered_nodes = [j for j in J if y[i, j].x > 0.5]\n",
        "            print(f\"Nodes covered by Facility {i}: {covered_nodes}\")\n",
        "else:\n",
        "    print(\"No optimal solution found.\")\n"
      ],
      "metadata": {
        "id": "88k7T_s012JN"
      },
      "execution_count": null,
      "outputs": []
    }
  ]
}